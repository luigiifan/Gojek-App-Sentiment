{
 "cells": [
  {
   "cell_type": "markdown",
   "metadata": {},
   "source": [
    "## Import Library"
   ]
  },
  {
   "cell_type": "code",
   "execution_count": 12,
   "metadata": {},
   "outputs": [
    {
     "name": "stdout",
     "output_type": "stream",
     "text": [
      "Requirement already satisfied: google-play-scraper in c:\\users\\luigi\\appdata\\local\\programs\\python\\python312\\lib\\site-packages (1.2.7)\n",
      "Note: you may need to restart the kernel to use updated packages.\n"
     ]
    }
   ],
   "source": [
    "%pip install google-play-scraper\n",
    "from google_play_scraper import app, reviews, Sort, reviews_all\n",
    "import pandas as pd\n",
    "import csv"
   ]
  },
  {
   "cell_type": "code",
   "execution_count": 15,
   "metadata": {},
   "outputs": [],
   "source": [
    "scrapreview = reviews_all(\n",
    "    'com.gojek.app',          \n",
    "    lang='id',             \n",
    "    country='id',          \n",
    "    sort=Sort.MOST_RELEVANT, \n",
    "    count=30000,      \n",
    ")"
   ]
  },
  {
   "cell_type": "code",
   "execution_count": 16,
   "metadata": {},
   "outputs": [],
   "source": [
    "data = pd.DataFrame(scrapreview)\n",
    "data.to_csv('gojek-app_review.csv', index=False, encoding='utf-8-sig')"
   ]
  },
  {
   "cell_type": "markdown",
   "metadata": {},
   "source": [
    "**Insight:**:\n",
    "- Melakukan scrapping data menggunakan library google-play-scrapper untuk aplikasi Gojek pada playstore dengan jumlah ulasan 30 ribu.\n",
    "- Mengekspor data dalam format csv untuk dilakukan analisis sentimen."
   ]
  }
 ],
 "metadata": {
  "kernelspec": {
   "display_name": "Python 3",
   "language": "python",
   "name": "python3"
  },
  "language_info": {
   "codemirror_mode": {
    "name": "ipython",
    "version": 3
   },
   "file_extension": ".py",
   "mimetype": "text/x-python",
   "name": "python",
   "nbconvert_exporter": "python",
   "pygments_lexer": "ipython3",
   "version": "3.12.5"
  }
 },
 "nbformat": 4,
 "nbformat_minor": 2
}
